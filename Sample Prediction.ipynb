{
 "cells": [
  {
   "cell_type": "code",
   "execution_count": 3,
   "id": "766b0bdf-7e47-4058-85b4-275fc76df33a",
   "metadata": {},
   "outputs": [
    {
     "name": "stdout",
     "output_type": "stream",
     "text": [
      "Not Spam Mail\n"
     ]
    },
    {
     "name": "stderr",
     "output_type": "stream",
     "text": [
      "[nltk_data] Downloading package wordnet to\n",
      "[nltk_data]     C:\\Users\\PRATEEK\\AppData\\Roaming\\nltk_data...\n",
      "[nltk_data]   Package wordnet is already up-to-date!\n",
      "[nltk_data] Downloading package stopwords to\n",
      "[nltk_data]     C:\\Users\\PRATEEK\\AppData\\Roaming\\nltk_data...\n",
      "[nltk_data]   Package stopwords is already up-to-date!\n"
     ]
    }
   ],
   "source": [
    "import nltk\n",
    "import pickle\n",
    "import pandas as pd\n",
    "import re\n",
    "import string\n",
    "from nltk.stem import WordNetLemmatizer \n",
    "nltk.download('wordnet')\n",
    "nltk.download('stopwords')\n",
    "#stopwords\n",
    "stopwords = nltk.corpus.stopwords.words('english')\n",
    "#lemmatizer\n",
    "lemmatizer = WordNetLemmatizer() \n",
    "\n",
    "#doing a test prediction\n",
    "\n",
    "test = [\"Dear Ms. Smith, I am writing to request personal leave from July 15th to July 20th. During this period, I will be attending a family event out of town. I understand the impact of my absence and will ensure that my responsibilities are covered during this time. If there are any specific procedures or forms required for leave approval, please let me know. Thank you for your understanding, and I appreciate your prompt attention to this matter.\"]\n",
    "review = re.sub('[^a-zA-Z]', ' ', test[0])\n",
    "review = review.lower()\n",
    "review = review.split()\n",
    "review = [lemmatizer.lemmatize(word) for word in review if not word in set(stopwords)]\n",
    "review = ' '.join(review)\n",
    "t1=[review]\n",
    "\n",
    "# Load data from pickle file\n",
    "with open('count_vectorizer.pkl', 'rb') as f:\n",
    "    cv = pickle.load(f)\n",
    "\n",
    "# Load data from pickle file\n",
    "with open('classifier.pkl', 'rb') as f:\n",
    "    classifier = pickle.load(f)\n",
    "\n",
    "#transforming for using on the model (using the count vectorizer)\n",
    "\n",
    "test_vec = cv.transform(t1)\n",
    "\n",
    "#spam 1\n",
    "#ham 0\n",
    "res = classifier.predict(test_vec)[0]\n",
    "\n",
    "if res == 1:\n",
    "    print(\"Spam Mail\")\n",
    "elif res == 0:\n",
    "    print(\"Not Spam Mail\")"
   ]
  },
  {
   "cell_type": "code",
   "execution_count": null,
   "id": "9635bedb-3a8f-4639-8cf0-aee67190c9c4",
   "metadata": {},
   "outputs": [],
   "source": []
  }
 ],
 "metadata": {
  "kernelspec": {
   "display_name": "Python 3 (ipykernel)",
   "language": "python",
   "name": "python3"
  },
  "language_info": {
   "codemirror_mode": {
    "name": "ipython",
    "version": 3
   },
   "file_extension": ".py",
   "mimetype": "text/x-python",
   "name": "python",
   "nbconvert_exporter": "python",
   "pygments_lexer": "ipython3",
   "version": "3.11.7"
  }
 },
 "nbformat": 4,
 "nbformat_minor": 5
}
