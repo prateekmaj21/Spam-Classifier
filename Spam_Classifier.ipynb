{
 "cells": [
  {
   "cell_type": "markdown",
   "id": "781afd6b-a9be-406a-8d10-040d58065390",
   "metadata": {},
   "source": [
    "# Spam Classification"
   ]
  },
  {
   "cell_type": "code",
   "execution_count": 1,
   "id": "fa5fb49c-ac55-407f-ae20-a95a411e46cc",
   "metadata": {},
   "outputs": [
    {
     "name": "stderr",
     "output_type": "stream",
     "text": [
      "[nltk_data] Downloading package wordnet to\n",
      "[nltk_data]     C:\\Users\\PRATEEK\\AppData\\Roaming\\nltk_data...\n",
      "[nltk_data]   Package wordnet is already up-to-date!\n",
      "[nltk_data] Downloading package stopwords to\n",
      "[nltk_data]     C:\\Users\\PRATEEK\\AppData\\Roaming\\nltk_data...\n",
      "[nltk_data]   Package stopwords is already up-to-date!\n"
     ]
    },
    {
     "data": {
      "text/plain": [
       "True"
      ]
     },
     "execution_count": 1,
     "metadata": {},
     "output_type": "execute_result"
    }
   ],
   "source": [
    "#import libraries\n",
    "\n",
    "import nltk\n",
    "import pandas as pd\n",
    "import re\n",
    "import string\n",
    "import pickle\n",
    "from nltk.stem import WordNetLemmatizer \n",
    "nltk.download('wordnet')\n",
    "nltk.download('stopwords')"
   ]
  },
  {
   "cell_type": "markdown",
   "id": "b2d3a8ef-e725-44eb-ab86-bd000cf6ad6b",
   "metadata": {},
   "source": [
    "Prateek Majumder"
   ]
  },
  {
   "cell_type": "code",
   "execution_count": 2,
   "id": "287f7163-e254-4c02-ad5c-04305de7005f",
   "metadata": {},
   "outputs": [],
   "source": [
    "# Reading the dataset\n",
    "df = pd.read_csv('combined_data.csv')"
   ]
  },
  {
   "cell_type": "code",
   "execution_count": 3,
   "id": "bc6002e9-aab3-4f15-9583-f63a96ef607e",
   "metadata": {},
   "outputs": [
    {
     "data": {
      "text/html": [
       "<div>\n",
       "<style scoped>\n",
       "    .dataframe tbody tr th:only-of-type {\n",
       "        vertical-align: middle;\n",
       "    }\n",
       "\n",
       "    .dataframe tbody tr th {\n",
       "        vertical-align: top;\n",
       "    }\n",
       "\n",
       "    .dataframe thead th {\n",
       "        text-align: right;\n",
       "    }\n",
       "</style>\n",
       "<table border=\"1\" class=\"dataframe\">\n",
       "  <thead>\n",
       "    <tr style=\"text-align: right;\">\n",
       "      <th></th>\n",
       "      <th>label</th>\n",
       "      <th>text</th>\n",
       "    </tr>\n",
       "  </thead>\n",
       "  <tbody>\n",
       "    <tr>\n",
       "      <th>0</th>\n",
       "      <td>1</td>\n",
       "      <td>ounce feather bowl hummingbird opec moment ala...</td>\n",
       "    </tr>\n",
       "    <tr>\n",
       "      <th>1</th>\n",
       "      <td>1</td>\n",
       "      <td>wulvob get your medircations online qnb ikud v...</td>\n",
       "    </tr>\n",
       "    <tr>\n",
       "      <th>2</th>\n",
       "      <td>0</td>\n",
       "      <td>computer connection from cnn com wednesday es...</td>\n",
       "    </tr>\n",
       "    <tr>\n",
       "      <th>3</th>\n",
       "      <td>1</td>\n",
       "      <td>university degree obtain a prosperous future m...</td>\n",
       "    </tr>\n",
       "    <tr>\n",
       "      <th>4</th>\n",
       "      <td>0</td>\n",
       "      <td>thanks for all your answers guys i know i shou...</td>\n",
       "    </tr>\n",
       "  </tbody>\n",
       "</table>\n",
       "</div>"
      ],
      "text/plain": [
       "   label                                               text\n",
       "0      1  ounce feather bowl hummingbird opec moment ala...\n",
       "1      1  wulvob get your medircations online qnb ikud v...\n",
       "2      0   computer connection from cnn com wednesday es...\n",
       "3      1  university degree obtain a prosperous future m...\n",
       "4      0  thanks for all your answers guys i know i shou..."
      ]
     },
     "execution_count": 3,
     "metadata": {},
     "output_type": "execute_result"
    }
   ],
   "source": [
    "df.head()"
   ]
  },
  {
   "cell_type": "code",
   "execution_count": 4,
   "id": "92301550-b9fc-404f-97a6-37ea60bb3a58",
   "metadata": {},
   "outputs": [
    {
     "data": {
      "text/plain": [
       "83448"
      ]
     },
     "execution_count": 4,
     "metadata": {},
     "output_type": "execute_result"
    }
   ],
   "source": [
    "len(df)"
   ]
  },
  {
   "cell_type": "code",
   "execution_count": 5,
   "id": "6b20439f-d604-4ed7-b772-fc0e400816df",
   "metadata": {},
   "outputs": [],
   "source": [
    "#df= dataset[0:5000]"
   ]
  },
  {
   "cell_type": "code",
   "execution_count": 6,
   "id": "56796012-b5e2-42bf-a4e0-c69c78c1b60d",
   "metadata": {},
   "outputs": [
    {
     "data": {
      "text/html": [
       "<div>\n",
       "<style scoped>\n",
       "    .dataframe tbody tr th:only-of-type {\n",
       "        vertical-align: middle;\n",
       "    }\n",
       "\n",
       "    .dataframe tbody tr th {\n",
       "        vertical-align: top;\n",
       "    }\n",
       "\n",
       "    .dataframe thead th {\n",
       "        text-align: right;\n",
       "    }\n",
       "</style>\n",
       "<table border=\"1\" class=\"dataframe\">\n",
       "  <thead>\n",
       "    <tr style=\"text-align: right;\">\n",
       "      <th></th>\n",
       "      <th>label</th>\n",
       "      <th>text</th>\n",
       "    </tr>\n",
       "  </thead>\n",
       "  <tbody>\n",
       "    <tr>\n",
       "      <th>0</th>\n",
       "      <td>1</td>\n",
       "      <td>ounce feather bowl hummingbird opec moment ala...</td>\n",
       "    </tr>\n",
       "    <tr>\n",
       "      <th>1</th>\n",
       "      <td>1</td>\n",
       "      <td>wulvob get your medircations online qnb ikud v...</td>\n",
       "    </tr>\n",
       "    <tr>\n",
       "      <th>2</th>\n",
       "      <td>0</td>\n",
       "      <td>computer connection from cnn com wednesday es...</td>\n",
       "    </tr>\n",
       "    <tr>\n",
       "      <th>3</th>\n",
       "      <td>1</td>\n",
       "      <td>university degree obtain a prosperous future m...</td>\n",
       "    </tr>\n",
       "    <tr>\n",
       "      <th>4</th>\n",
       "      <td>0</td>\n",
       "      <td>thanks for all your answers guys i know i shou...</td>\n",
       "    </tr>\n",
       "    <tr>\n",
       "      <th>5</th>\n",
       "      <td>0</td>\n",
       "      <td>larry king live at escapenumber escapenumber p...</td>\n",
       "    </tr>\n",
       "    <tr>\n",
       "      <th>6</th>\n",
       "      <td>0</td>\n",
       "      <td>michael pobega wrote i'm not sure if it's the ...</td>\n",
       "    </tr>\n",
       "    <tr>\n",
       "      <th>7</th>\n",
       "      <td>0</td>\n",
       "      <td>hi i have this error tr sample escapenumber es...</td>\n",
       "    </tr>\n",
       "    <tr>\n",
       "      <th>8</th>\n",
       "      <td>1</td>\n",
       "      <td>works gateway world art explore tattooing full...</td>\n",
       "    </tr>\n",
       "    <tr>\n",
       "      <th>9</th>\n",
       "      <td>1</td>\n",
       "      <td>upon this account he is not only very cautious...</td>\n",
       "    </tr>\n",
       "    <tr>\n",
       "      <th>10</th>\n",
       "      <td>1</td>\n",
       "      <td>my dear fellow do you feel insecure about your...</td>\n",
       "    </tr>\n",
       "    <tr>\n",
       "      <th>11</th>\n",
       "      <td>1</td>\n",
       "      <td>dear valued member its your therapists assis...</td>\n",
       "    </tr>\n",
       "    <tr>\n",
       "      <th>12</th>\n",
       "      <td>1</td>\n",
       "      <td>oem software means no dvd cd no packing case n...</td>\n",
       "    </tr>\n",
       "    <tr>\n",
       "      <th>13</th>\n",
       "      <td>1</td>\n",
       "      <td>hello , welcome to pharmo attached nline sho l...</td>\n",
       "    </tr>\n",
       "    <tr>\n",
       "      <th>14</th>\n",
       "      <td>1</td>\n",
       "      <td>elaborados con las mejores materias primas des...</td>\n",
       "    </tr>\n",
       "    <tr>\n",
       "      <th>15</th>\n",
       "      <td>1</td>\n",
       "      <td>cnnmoney the opportunity for functional bevera...</td>\n",
       "    </tr>\n",
       "    <tr>\n",
       "      <th>16</th>\n",
       "      <td>0</td>\n",
       "      <td>trinidadian police tell the associated press t...</td>\n",
       "    </tr>\n",
       "    <tr>\n",
       "      <th>17</th>\n",
       "      <td>1</td>\n",
       "      <td>microsoft software at superb prices : but how ...</td>\n",
       "    </tr>\n",
       "    <tr>\n",
       "      <th>18</th>\n",
       "      <td>1</td>\n",
       "      <td>viii russia the great northern expeditionwrith...</td>\n",
       "    </tr>\n",
       "    <tr>\n",
       "      <th>19</th>\n",
       "      <td>0</td>\n",
       "      <td>author idra date escapenumber escapenumber esc...</td>\n",
       "    </tr>\n",
       "  </tbody>\n",
       "</table>\n",
       "</div>"
      ],
      "text/plain": [
       "    label                                               text\n",
       "0       1  ounce feather bowl hummingbird opec moment ala...\n",
       "1       1  wulvob get your medircations online qnb ikud v...\n",
       "2       0   computer connection from cnn com wednesday es...\n",
       "3       1  university degree obtain a prosperous future m...\n",
       "4       0  thanks for all your answers guys i know i shou...\n",
       "5       0  larry king live at escapenumber escapenumber p...\n",
       "6       0  michael pobega wrote i'm not sure if it's the ...\n",
       "7       0  hi i have this error tr sample escapenumber es...\n",
       "8       1  works gateway world art explore tattooing full...\n",
       "9       1  upon this account he is not only very cautious...\n",
       "10      1  my dear fellow do you feel insecure about your...\n",
       "11      1  dear valued member its your therapists assis...\n",
       "12      1  oem software means no dvd cd no packing case n...\n",
       "13      1  hello , welcome to pharmo attached nline sho l...\n",
       "14      1  elaborados con las mejores materias primas des...\n",
       "15      1  cnnmoney the opportunity for functional bevera...\n",
       "16      0  trinidadian police tell the associated press t...\n",
       "17      1  microsoft software at superb prices : but how ...\n",
       "18      1  viii russia the great northern expeditionwrith...\n",
       "19      0  author idra date escapenumber escapenumber esc..."
      ]
     },
     "execution_count": 6,
     "metadata": {},
     "output_type": "execute_result"
    }
   ],
   "source": [
    "df.head(20)"
   ]
  },
  {
   "cell_type": "markdown",
   "id": "6231ca58-a44f-418c-94fc-d44229fb0e9f",
   "metadata": {},
   "source": [
    "### Text Processing"
   ]
  },
  {
   "cell_type": "code",
   "execution_count": 7,
   "id": "984d55bc-bd65-47ea-a2fc-cee7f4361ff7",
   "metadata": {},
   "outputs": [],
   "source": [
    "stopwords = nltk.corpus.stopwords.words('english')\n",
    "lemmatizer = WordNetLemmatizer() "
   ]
  },
  {
   "cell_type": "code",
   "execution_count": 8,
   "id": "52fcd01e-5711-4d14-b4db-24caf4f46e7b",
   "metadata": {},
   "outputs": [],
   "source": [
    "corpus = []\n",
    "for i in range(0, 83448):\n",
    "    mail = re.sub('[^a-zA-Z]', ' ', df['text'][i])\n",
    "    mail = mail.lower()\n",
    "    mail = mail.split()\n",
    "    mail = [lemmatizer.lemmatize(word) for word in mail if not word in set(stopwords)]\n",
    "    mail = ' '.join(mail)\n",
    "    corpus.append(mail)"
   ]
  },
  {
   "cell_type": "code",
   "execution_count": 9,
   "id": "c9154e25-26b9-4a78-af41-3dd409719ad1",
   "metadata": {},
   "outputs": [
    {
     "data": {
      "text/plain": [
       "['ounce feather bowl hummingbird opec moment alabaster valkyrie dyad bread flack desperate iambic hadron heft quell yoghurt bunkmate divert afterimage',\n",
       " 'wulvob get medircations online qnb ikud viagra escapenumber escapenumber levitra escapenumber escapenumber cialis escapenumber escapenumber imitrex escapenumber escapenumber flonax escapenumber escapenumber ultram escapenumber escapenumber vioxx escapenumber escapenumber ambien escapenumber escapenumber valium escapenumber escapenumber xannax escapenumber escapenumber soma escapenumber meridia escapenumber escapenumber escapenumber escapenumber cysfrt ever stopped wonder much average man pay mediecines ap painkiller drug improve quality life weight reducing tablet many escapenumber worse mediucine cost lot branded rfwur intrested http dmvrwm remunerativ net dfuaeirxygiq visit website escapenumber']"
      ]
     },
     "execution_count": 9,
     "metadata": {},
     "output_type": "execute_result"
    }
   ],
   "source": [
    "corpus[0:2]"
   ]
  },
  {
   "cell_type": "code",
   "execution_count": 10,
   "id": "71748121-7263-4322-8015-91aeabd4c38f",
   "metadata": {},
   "outputs": [],
   "source": [
    "from sklearn.feature_extraction.text import CountVectorizer"
   ]
  },
  {
   "cell_type": "code",
   "execution_count": 11,
   "id": "691671f4-51ac-413d-ae87-7867d6d76eeb",
   "metadata": {},
   "outputs": [],
   "source": [
    "# Creating the Bag of Words model\n",
    "cv = CountVectorizer(max_features = 2500)\n",
    "\n",
    "#the X and y\n",
    "X = cv.fit_transform(corpus).toarray()\n",
    "y = df.iloc[:, 0].values"
   ]
  },
  {
   "cell_type": "code",
   "execution_count": 12,
   "id": "2c38b236-f606-42d4-a544-77ec78fa0047",
   "metadata": {},
   "outputs": [
    {
     "data": {
      "text/plain": [
       "array([1, 1, 0, ..., 1, 0, 1], dtype=int64)"
      ]
     },
     "execution_count": 12,
     "metadata": {},
     "output_type": "execute_result"
    }
   ],
   "source": [
    "y"
   ]
  },
  {
   "cell_type": "code",
   "execution_count": 13,
   "id": "82be6843-0b77-4b7a-8c51-4019dc6a122c",
   "metadata": {},
   "outputs": [
    {
     "data": {
      "text/plain": [
       "2500"
      ]
     },
     "execution_count": 13,
     "metadata": {},
     "output_type": "execute_result"
    }
   ],
   "source": [
    "len(X[1])"
   ]
  },
  {
   "cell_type": "markdown",
   "id": "4aced677-8284-44ab-ba22-c9f3067bf143",
   "metadata": {},
   "source": [
    "### Data Train Test Split"
   ]
  },
  {
   "cell_type": "code",
   "execution_count": 14,
   "id": "19f94e42-3b92-425b-a709-57c20d450021",
   "metadata": {},
   "outputs": [],
   "source": [
    "from sklearn.model_selection import train_test_split\n",
    "# Splitting the dataset into the Training set and Test set\n",
    "X_train, X_test, y_train, y_test = train_test_split(X, y, test_size = 0.25, random_state = 7)"
   ]
  },
  {
   "cell_type": "code",
   "execution_count": 15,
   "id": "d65f5410-53ab-448d-912e-a3de25b1b6d4",
   "metadata": {},
   "outputs": [
    {
     "name": "stdout",
     "output_type": "stream",
     "text": [
      "(62586, 2500)\n",
      "(62586,)\n",
      "(20862, 2500)\n",
      "(20862,)\n"
     ]
    }
   ],
   "source": [
    "print(X_train.shape)\n",
    "print(y_train.shape)\n",
    "print(X_test.shape)\n",
    "print(y_test.shape)"
   ]
  },
  {
   "cell_type": "markdown",
   "id": "e9c9fe45-b36a-4e8f-80e1-1c4b1151b59d",
   "metadata": {},
   "source": [
    "### Model Training"
   ]
  },
  {
   "cell_type": "code",
   "execution_count": 16,
   "id": "3083da35-f839-4f82-9ace-a95a4b0149e7",
   "metadata": {},
   "outputs": [],
   "source": [
    "#using Random Forest Classifier\n",
    "\n",
    "from sklearn.ensemble import RandomForestClassifier\n",
    "# Random Forest\n",
    "classifier = RandomForestClassifier(n_estimators = 20, criterion = 'entropy', random_state = 7)\n",
    "classifier.fit(X_train, y_train)\n",
    "y_pred = classifier.predict(X_test)"
   ]
  },
  {
   "cell_type": "markdown",
   "id": "d4f06e48-f38c-4405-a5bb-4cd0810341f0",
   "metadata": {},
   "source": [
    "### Accuracy"
   ]
  },
  {
   "cell_type": "code",
   "execution_count": 17,
   "id": "c6e00b4d-dde7-4924-b86f-df95653939fb",
   "metadata": {},
   "outputs": [],
   "source": [
    "#accuracy score and classification report\n",
    "\n",
    "from sklearn.metrics import accuracy_score\n",
    "from sklearn.metrics import classification_report"
   ]
  },
  {
   "cell_type": "code",
   "execution_count": 18,
   "id": "5f8db084-7d34-4824-808f-16121b6f0ee3",
   "metadata": {},
   "outputs": [
    {
     "data": {
      "text/plain": [
       "0.9779503403317036"
      ]
     },
     "execution_count": 18,
     "metadata": {},
     "output_type": "execute_result"
    }
   ],
   "source": [
    "accuracy_score(y_test, y_pred)"
   ]
  },
  {
   "cell_type": "code",
   "execution_count": 19,
   "id": "900becee-3d6d-4866-bd91-3e376fbd42a8",
   "metadata": {},
   "outputs": [
    {
     "name": "stdout",
     "output_type": "stream",
     "text": [
      "              precision    recall  f1-score   support\n",
      "\n",
      "           0       0.98      0.98      0.98      9881\n",
      "           1       0.98      0.98      0.98     10981\n",
      "\n",
      "    accuracy                           0.98     20862\n",
      "   macro avg       0.98      0.98      0.98     20862\n",
      "weighted avg       0.98      0.98      0.98     20862\n",
      "\n"
     ]
    }
   ],
   "source": [
    "print(classification_report(y_test, y_pred))"
   ]
  },
  {
   "cell_type": "markdown",
   "id": "0d5148f5-243b-4714-8b7c-f5167c09c353",
   "metadata": {},
   "source": [
    "### Doing Test Predictions"
   ]
  },
  {
   "cell_type": "code",
   "execution_count": 20,
   "id": "1ca7d6f9-4e6a-4ff8-b4f7-f388475aa381",
   "metadata": {},
   "outputs": [],
   "source": [
    "#doing a test prediction\n",
    "\n",
    "test = [\"promo mail get ....  click now flat 50% off on this, get many offers in store and see all stock by yourself\"]"
   ]
  },
  {
   "cell_type": "code",
   "execution_count": 21,
   "id": "fadb3d5f-e219-4f15-8791-50b792d239f8",
   "metadata": {},
   "outputs": [],
   "source": [
    "mail = re.sub('[^a-zA-Z]', ' ', test[0])\n",
    "mail = mail.lower()\n",
    "mail = mail.split()\n",
    "mail = [lemmatizer.lemmatize(word) for word in mail if not word in set(stopwords)]\n",
    "mail = ' '.join(mail)\n",
    "t1=[mail]"
   ]
  },
  {
   "cell_type": "code",
   "execution_count": 22,
   "id": "22db1123-52f3-4755-b463-2514adf5620f",
   "metadata": {},
   "outputs": [
    {
     "data": {
      "text/plain": [
       "['promo mail get click flat get many offer store see stock']"
      ]
     },
     "execution_count": 22,
     "metadata": {},
     "output_type": "execute_result"
    }
   ],
   "source": [
    "t1"
   ]
  },
  {
   "cell_type": "code",
   "execution_count": 23,
   "id": "0b5132eb-ba2e-4a97-96a2-2448b388dc72",
   "metadata": {},
   "outputs": [],
   "source": [
    "#transforming for using on the model (using the count vectorizer)\n",
    "\n",
    "test_vec = cv.transform(t1)"
   ]
  },
  {
   "cell_type": "code",
   "execution_count": 24,
   "id": "9a0446bf-0dcf-491c-85a7-1f945a43f55d",
   "metadata": {},
   "outputs": [
    {
     "data": {
      "text/plain": [
       "1"
      ]
     },
     "execution_count": 24,
     "metadata": {},
     "output_type": "execute_result"
    }
   ],
   "source": [
    "#spam 1\n",
    "#ham 0\n",
    "classifier.predict(test_vec)[0]"
   ]
  },
  {
   "cell_type": "code",
   "execution_count": 25,
   "id": "3e4e1a54-d335-498b-b45e-d84648b67bd9",
   "metadata": {},
   "outputs": [],
   "source": [
    "#doing a test prediction\n",
    "\n",
    "test = [\"Dear Mark, I'm writing to ask for five days off from 15 to 19 November 2021. In recent weeks, I've been experiencing some health problems, which have remained undiagnosed until now. My GP requested that I admit myself to a hospital for a week to perform some checks and additional blood tests. I made sure to discuss this with Anne, who reassured me that she can cover my work and attend meetings with my clients during this time. Having in mind my good record of attendance, I hope you'll approve this request. Kind regards, James\"]"
   ]
  },
  {
   "cell_type": "code",
   "execution_count": 26,
   "id": "21005e57-5e9e-4434-863f-badd1b8e8680",
   "metadata": {},
   "outputs": [],
   "source": [
    "mail = re.sub('[^a-zA-Z]', ' ', test[0])\n",
    "mail = mail.lower()\n",
    "mail = mail.split()\n",
    "mail = [lemmatizer.lemmatize(word) for word in mail if not word in set(stopwords)]\n",
    "mail = ' '.join(mail)\n",
    "t1=[mail]"
   ]
  },
  {
   "cell_type": "code",
   "execution_count": 27,
   "id": "201fc24e-0c8e-4bff-bc86-e58a714783f6",
   "metadata": {},
   "outputs": [
    {
     "data": {
      "text/plain": [
       "['dear mark writing ask five day november recent week experiencing health problem remained undiagnosed gp requested admit hospital week perform check additional blood test made sure discus anne reassured cover work attend meeting client time mind good record attendance hope approve request kind regard james']"
      ]
     },
     "execution_count": 27,
     "metadata": {},
     "output_type": "execute_result"
    }
   ],
   "source": [
    "t1"
   ]
  },
  {
   "cell_type": "code",
   "execution_count": 28,
   "id": "90652c78-5f3a-49d8-9f17-02886adff27e",
   "metadata": {},
   "outputs": [],
   "source": [
    "#transforming for using on the model (using the count vectorizer)\n",
    "\n",
    "test_vec = cv.transform(t1)"
   ]
  },
  {
   "cell_type": "code",
   "execution_count": 29,
   "id": "a6cf6add-e495-4692-b008-e070ea32f9e3",
   "metadata": {},
   "outputs": [
    {
     "data": {
      "text/plain": [
       "0"
      ]
     },
     "execution_count": 29,
     "metadata": {},
     "output_type": "execute_result"
    }
   ],
   "source": [
    "#spam 1\n",
    "#ham 0\n",
    "classifier.predict(test_vec)[0]"
   ]
  },
  {
   "cell_type": "code",
   "execution_count": 30,
   "id": "d968bb2b-d1c3-45db-aa1a-b8018ddddc4d",
   "metadata": {},
   "outputs": [],
   "source": [
    "# Saving the CountVectorizer\n",
    "with open('count_vectorizer.pkl', 'wb') as f:\n",
    "    pickle.dump(cv, f)\n",
    "\n",
    "# Saving the classifier\n",
    "with open('classifier.pkl', 'wb') as f:\n",
    "    pickle.dump(classifier, f)"
   ]
  }
 ],
 "metadata": {
  "kernelspec": {
   "display_name": "Python 3 (ipykernel)",
   "language": "python",
   "name": "python3"
  },
  "language_info": {
   "codemirror_mode": {
    "name": "ipython",
    "version": 3
   },
   "file_extension": ".py",
   "mimetype": "text/x-python",
   "name": "python",
   "nbconvert_exporter": "python",
   "pygments_lexer": "ipython3",
   "version": "3.11.7"
  }
 },
 "nbformat": 4,
 "nbformat_minor": 5
}
